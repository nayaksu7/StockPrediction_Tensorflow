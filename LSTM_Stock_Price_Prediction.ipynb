{
 "cells": [
  {
   "cell_type": "markdown",
   "metadata": {},
   "source": [
    "### Import dependcies"
   ]
  },
  {
   "cell_type": "code",
   "execution_count": 3,
   "metadata": {},
   "outputs": [],
   "source": [
    "import pandas as pd\n",
    "import numpy as np\n",
    "from matplotlib import pyplot as plt\n",
    "import tensorflow as tf"
   ]
  },
  {
   "cell_type": "code",
   "execution_count": 4,
   "metadata": {},
   "outputs": [],
   "source": [
    "from tensorflow.keras.models import Sequential\n",
    "from tensorflow.keras.layers import Dense, BatchNormalization, Dropout, Activation\n",
    "from tensorflow.keras.layers import LSTM, GRU\n",
    "from sklearn.metrics import mean_squared_error\n",
    "from tensorflow.keras.optimizers import Adam, SGD, RMSprop\n",
    "from sklearn.metrics import mean_squared_error\n",
    "from tensorflow.keras.optimizers import Adam, SGD, RMSprop\n",
    "from sklearn.preprocessing import MinMaxScaler"
   ]
  },
  {
   "cell_type": "markdown",
   "metadata": {},
   "source": [
    "### Read the data"
   ]
  },
  {
   "cell_type": "code",
   "execution_count": 2,
   "metadata": {},
   "outputs": [],
   "source": [
    "stock_data= pd.read_csv('/Users/nsund/Desktop/tensorflow/dataset/nyse/prices.csv')"
   ]
  },
  {
   "cell_type": "code",
   "execution_count": null,
   "metadata": {},
   "outputs": [],
   "source": [
    "stock_data= pd.read_csv('nyse/prices.csv')"
   ]
  },
  {
   "cell_type": "code",
   "execution_count": 3,
   "metadata": {},
   "outputs": [
    {
     "data": {
      "text/html": [
       "<div>\n",
       "<style scoped>\n",
       "    .dataframe tbody tr th:only-of-type {\n",
       "        vertical-align: middle;\n",
       "    }\n",
       "\n",
       "    .dataframe tbody tr th {\n",
       "        vertical-align: top;\n",
       "    }\n",
       "\n",
       "    .dataframe thead th {\n",
       "        text-align: right;\n",
       "    }\n",
       "</style>\n",
       "<table border=\"1\" class=\"dataframe\">\n",
       "  <thead>\n",
       "    <tr style=\"text-align: right;\">\n",
       "      <th></th>\n",
       "      <th>date</th>\n",
       "      <th>symbol</th>\n",
       "      <th>open</th>\n",
       "      <th>close</th>\n",
       "      <th>low</th>\n",
       "      <th>high</th>\n",
       "      <th>volume</th>\n",
       "    </tr>\n",
       "  </thead>\n",
       "  <tbody>\n",
       "    <tr>\n",
       "      <td>0</td>\n",
       "      <td>2016-01-05 00:00:00</td>\n",
       "      <td>WLTW</td>\n",
       "      <td>123.430000</td>\n",
       "      <td>125.839996</td>\n",
       "      <td>122.309998</td>\n",
       "      <td>126.250000</td>\n",
       "      <td>2163600.0</td>\n",
       "    </tr>\n",
       "    <tr>\n",
       "      <td>1</td>\n",
       "      <td>2016-01-06 00:00:00</td>\n",
       "      <td>WLTW</td>\n",
       "      <td>125.239998</td>\n",
       "      <td>119.980003</td>\n",
       "      <td>119.940002</td>\n",
       "      <td>125.540001</td>\n",
       "      <td>2386400.0</td>\n",
       "    </tr>\n",
       "  </tbody>\n",
       "</table>\n",
       "</div>"
      ],
      "text/plain": [
       "                  date symbol        open       close         low        high  \\\n",
       "0  2016-01-05 00:00:00   WLTW  123.430000  125.839996  122.309998  126.250000   \n",
       "1  2016-01-06 00:00:00   WLTW  125.239998  119.980003  119.940002  125.540001   \n",
       "\n",
       "      volume  \n",
       "0  2163600.0  \n",
       "1  2386400.0  "
      ]
     },
     "execution_count": 3,
     "metadata": {},
     "output_type": "execute_result"
    }
   ],
   "source": [
    "stock_data.head(2)"
   ]
  },
  {
   "cell_type": "code",
   "execution_count": 4,
   "metadata": {},
   "outputs": [
    {
     "data": {
      "text/plain": [
       "date       object\n",
       "symbol     object\n",
       "open      float64\n",
       "close     float64\n",
       "low       float64\n",
       "high      float64\n",
       "volume    float64\n",
       "dtype: object"
      ]
     },
     "execution_count": 4,
     "metadata": {},
     "output_type": "execute_result"
    }
   ],
   "source": [
    "stock_data.dtypes"
   ]
  },
  {
   "cell_type": "markdown",
   "metadata": {},
   "source": [
    "### Check for missing values and range"
   ]
  },
  {
   "cell_type": "code",
   "execution_count": 9,
   "metadata": {},
   "outputs": [
    {
     "data": {
      "text/plain": [
       "(Timestamp('2010-01-04 00:00:00'), Timestamp('2016-12-30 00:00:00'), 501)"
      ]
     },
     "execution_count": 9,
     "metadata": {},
     "output_type": "execute_result"
    }
   ],
   "source": [
    "# find the date range and unique stock tickers\n",
    "stock_data['date'].min(), stock_data['date'].max(), stock_data.symbol.nunique()"
   ]
  },
  {
   "cell_type": "code",
   "execution_count": 10,
   "metadata": {},
   "outputs": [
    {
     "data": {
      "text/plain": [
       "date      0\n",
       "symbol    0\n",
       "open      0\n",
       "close     0\n",
       "low       0\n",
       "high      0\n",
       "volume    0\n",
       "dtype: int64"
      ]
     },
     "execution_count": 10,
     "metadata": {},
     "output_type": "execute_result"
    }
   ],
   "source": [
    "## Check for missing values\n",
    "stock_data.isnull().sum()"
   ]
  },
  {
   "cell_type": "code",
   "execution_count": 17,
   "metadata": {},
   "outputs": [
    {
     "data": {
      "text/plain": [
       "array([213.429998, 214.599998, 214.379993, ..., 117.519997, 116.449997,\n",
       "       116.650002])"
      ]
     },
     "execution_count": 17,
     "metadata": {},
     "output_type": "execute_result"
    }
   ],
   "source": [
    "stock_data.loc[stock_data.symbol== 'GOOGL', 'open'].values"
   ]
  },
  {
   "cell_type": "code",
   "execution_count": 41,
   "metadata": {},
   "outputs": [
    {
     "data": {
      "text/plain": [
       "851264"
      ]
     },
     "execution_count": 41,
     "metadata": {},
     "output_type": "execute_result"
    }
   ],
   "source": [
    "len(stock_data.close.values)"
   ]
  },
  {
   "cell_type": "markdown",
   "metadata": {},
   "source": [
    "### Subset data for one stock - In this case just Microsoft stock price"
   ]
  },
  {
   "cell_type": "code",
   "execution_count": 308,
   "metadata": {},
   "outputs": [],
   "source": [
    "subset_stock = stock_data.loc[(stock_data['symbol']== 'MSFT') , 'close'].values.astype('float32')"
   ]
  },
  {
   "cell_type": "code",
   "execution_count": 310,
   "metadata": {},
   "outputs": [],
   "source": [
    "# reshape the numarry two dimenional array\n",
    "\n",
    "closing_price= subset_stock.reshape(-1,1)"
   ]
  },
  {
   "cell_type": "markdown",
   "metadata": {},
   "source": [
    "### Normalization"
   ]
  },
  {
   "cell_type": "code",
   "execution_count": 311,
   "metadata": {},
   "outputs": [],
   "source": [
    "## normalize the data relative to 0-1\n",
    "scaler = MinMaxScaler(feature_range=(0,1))"
   ]
  },
  {
   "cell_type": "code",
   "execution_count": 312,
   "metadata": {},
   "outputs": [],
   "source": [
    "norm_close_prices=scaler.fit_transform(closing_price)"
   ]
  },
  {
   "cell_type": "code",
   "execution_count": 313,
   "metadata": {},
   "outputs": [
    {
     "data": {
      "text/plain": [
       "array([[0.19551837],\n",
       "       [0.19576454],\n",
       "       [0.19108593],\n",
       "       ...,\n",
       "       [0.98448664],\n",
       "       [0.9822704 ],\n",
       "       [0.96355575]], dtype=float32)"
      ]
     },
     "execution_count": 313,
     "metadata": {},
     "output_type": "execute_result"
    }
   ],
   "source": [
    "norm_close_prices"
   ]
  },
  {
   "cell_type": "markdown",
   "metadata": {},
   "source": [
    "### Create datasets for training and validation"
   ]
  },
  {
   "cell_type": "code",
   "execution_count": 314,
   "metadata": {},
   "outputs": [],
   "source": [
    "train_val= int(len(norm_close_prices) * 0.75)\n",
    "test_val = len(norm_close_prices)-train_val"
   ]
  },
  {
   "cell_type": "code",
   "execution_count": 315,
   "metadata": {},
   "outputs": [],
   "source": [
    "train_set = closing_price[0:train_val]\n",
    "test_set = closing_price[train_val:]"
   ]
  },
  {
   "cell_type": "code",
   "execution_count": 316,
   "metadata": {},
   "outputs": [],
   "source": [
    "def time_lag_generator(inputdata, features):\n",
    "    X, Y = [], []\n",
    "    for val in range(len(inputdata)- features-1):\n",
    "        a = inputdata[val : (val + features), 0]\n",
    "        X.append(a)\n",
    "        Y.append(inputdata[val+features,0])\n",
    "    return np.array(X), np.array(Y)\n",
    "        "
   ]
  },
  {
   "cell_type": "code",
   "execution_count": 339,
   "metadata": {},
   "outputs": [],
   "source": [
    "## we are creating new time lag features t-1, t-2 as input features as part of our feature engineering\n",
    "features =2\n",
    "train_features, train_label= time_lag_generator(train_set, 2)"
   ]
  },
  {
   "cell_type": "code",
   "execution_count": 340,
   "metadata": {},
   "outputs": [],
   "source": [
    "test_features, test_label= time_lag_generator(test_set,2)"
   ]
  },
  {
   "cell_type": "code",
   "execution_count": 341,
   "metadata": {},
   "outputs": [
    {
     "data": {
      "text/plain": [
       "(438, (438, 2), 438, (438,))"
      ]
     },
     "execution_count": 341,
     "metadata": {},
     "output_type": "execute_result"
    }
   ],
   "source": [
    "len(test_features), test_features.shape, len(test_label), test_label.shape"
   ]
  },
  {
   "cell_type": "markdown",
   "metadata": {},
   "source": [
    "### Reshape the train and set datasets"
   ]
  },
  {
   "cell_type": "code",
   "execution_count": 342,
   "metadata": {},
   "outputs": [
    {
     "data": {
      "text/plain": [
       "(1318, 1, 2)"
      ]
     },
     "execution_count": 342,
     "metadata": {},
     "output_type": "execute_result"
    }
   ],
   "source": [
    "train_features= train_features.reshape(train_features.shape[0], 1, train_features.shape[1])\n",
    "train_features.shape"
   ]
  },
  {
   "cell_type": "code",
   "execution_count": 343,
   "metadata": {},
   "outputs": [
    {
     "data": {
      "text/plain": [
       "(438, 1, 2)"
      ]
     },
     "execution_count": 343,
     "metadata": {},
     "output_type": "execute_result"
    }
   ],
   "source": [
    "test_features= test_features.reshape(test_features.shape[0], 1, test_features.shape[1])\n",
    "test_features.shape"
   ]
  },
  {
   "cell_type": "code",
   "execution_count": 344,
   "metadata": {},
   "outputs": [
    {
     "data": {
      "text/plain": [
       "((1318, 1, 2), (438, 1, 2))"
      ]
     },
     "execution_count": 344,
     "metadata": {},
     "output_type": "execute_result"
    }
   ],
   "source": [
    "train_features.shape, test_features.shape"
   ]
  },
  {
   "cell_type": "markdown",
   "metadata": {},
   "source": [
    "### Train the model"
   ]
  },
  {
   "cell_type": "code",
   "execution_count": 291,
   "metadata": {},
   "outputs": [],
   "source": [
    "#from tensorflow.keras.callbacks import ReduceLROnPlateau, ModelCheckpoint"
   ]
  },
  {
   "cell_type": "code",
   "execution_count": 345,
   "metadata": {},
   "outputs": [
    {
     "name": "stdout",
     "output_type": "stream",
     "text": [
      "Model: \"sequential_5\"\n",
      "_________________________________________________________________\n",
      "Layer (type)                 Output Shape              Param #   \n",
      "=================================================================\n",
      "gru_5 (GRU)                  (None, 1, 256)            199680    \n",
      "_________________________________________________________________\n",
      "dropout_10 (Dropout)         (None, 1, 256)            0         \n",
      "_________________________________________________________________\n",
      "lstm_5 (LSTM)                (None, 256)               525312    \n",
      "_________________________________________________________________\n",
      "dropout_11 (Dropout)         (None, 256)               0         \n",
      "_________________________________________________________________\n",
      "dense_10 (Dense)             (None, 64)                16448     \n",
      "_________________________________________________________________\n",
      "dense_11 (Dense)             (None, 1)                 65        \n",
      "=================================================================\n",
      "Total params: 741,505\n",
      "Trainable params: 741,505\n",
      "Non-trainable params: 0\n",
      "_________________________________________________________________\n"
     ]
    }
   ],
   "source": [
    "model = Sequential()\n",
    "model.add(GRU(256, input_shape=(1, features), return_sequences=True ))\n",
    "model.add(Dropout(0.25))\n",
    "model.add(LSTM(256))\n",
    "model.add(Dropout(0.25))\n",
    "model.add(Dense(64, activation='relu'))\n",
    "model.add(Dense(1))\n",
    "model.summary()"
   ]
  },
  {
   "cell_type": "code",
   "execution_count": 346,
   "metadata": {},
   "outputs": [],
   "source": [
    "# use optimizer to reduce loss and find best parameters\n",
    "model.compile(loss='mean_squared_error', optimizer=Adam(0.0005), metrics=['mean_squared_error'])"
   ]
  },
  {
   "cell_type": "code",
   "execution_count": 347,
   "metadata": {},
   "outputs": [
    {
     "name": "stdout",
     "output_type": "stream",
     "text": [
      "Train on 1318 samples, validate on 438 samples\n",
      "Epoch 1/70\n",
      "1318/1318 [==============================] - 5s 4ms/sample - loss: 1013.4553 - mean_squared_error: 1013.4553 - val_loss: 2394.4709 - val_mean_squared_error: 2394.4709\n",
      "Epoch 2/70\n",
      "1318/1318 [==============================] - 0s 116us/sample - loss: 749.0799 - mean_squared_error: 749.0800 - val_loss: 1739.9171 - val_mean_squared_error: 1739.9172\n",
      "Epoch 3/70\n",
      "1318/1318 [==============================] - 0s 116us/sample - loss: 369.3660 - mean_squared_error: 369.3660 - val_loss: 990.5267 - val_mean_squared_error: 990.5266\n",
      "Epoch 4/70\n",
      "1318/1318 [==============================] - 0s 118us/sample - loss: 105.2372 - mean_squared_error: 105.2372 - val_loss: 474.3925 - val_mean_squared_error: 474.3925\n",
      "Epoch 5/70\n",
      "1318/1318 [==============================] - 0s 118us/sample - loss: 48.8437 - mean_squared_error: 48.8437 - val_loss: 302.1470 - val_mean_squared_error: 302.1470\n",
      "Epoch 6/70\n",
      "1318/1318 [==============================] - 0s 118us/sample - loss: 52.4114 - mean_squared_error: 52.4114 - val_loss: 344.1880 - val_mean_squared_error: 344.1880\n",
      "Epoch 7/70\n",
      "1318/1318 [==============================] - 0s 116us/sample - loss: 46.1668 - mean_squared_error: 46.1668 - val_loss: 416.3947 - val_mean_squared_error: 416.3948\n",
      "Epoch 8/70\n",
      "1318/1318 [==============================] - 0s 115us/sample - loss: 45.4429 - mean_squared_error: 45.4429 - val_loss: 430.6818 - val_mean_squared_error: 430.6818\n",
      "Epoch 9/70\n",
      "1318/1318 [==============================] - 0s 114us/sample - loss: 44.9273 - mean_squared_error: 44.9273 - val_loss: 410.9839 - val_mean_squared_error: 410.9839\n",
      "Epoch 10/70\n",
      "1318/1318 [==============================] - 0s 116us/sample - loss: 44.4018 - mean_squared_error: 44.4018 - val_loss: 398.6978 - val_mean_squared_error: 398.6978\n",
      "Epoch 11/70\n",
      "1318/1318 [==============================] - 0s 116us/sample - loss: 44.1813 - mean_squared_error: 44.1813 - val_loss: 395.9218 - val_mean_squared_error: 395.9218\n",
      "Epoch 12/70\n",
      "1318/1318 [==============================] - 0s 117us/sample - loss: 42.0713 - mean_squared_error: 42.0713 - val_loss: 386.5154 - val_mean_squared_error: 386.5154\n",
      "Epoch 13/70\n",
      "1318/1318 [==============================] - 0s 118us/sample - loss: 41.4762 - mean_squared_error: 41.4762 - val_loss: 385.2009 - val_mean_squared_error: 385.2009\n",
      "Epoch 14/70\n",
      "1318/1318 [==============================] - 0s 116us/sample - loss: 39.4145 - mean_squared_error: 39.4144 - val_loss: 376.4845 - val_mean_squared_error: 376.4845\n",
      "Epoch 15/70\n",
      "1318/1318 [==============================] - 0s 116us/sample - loss: 37.4534 - mean_squared_error: 37.4534 - val_loss: 349.5914 - val_mean_squared_error: 349.5914\n",
      "Epoch 16/70\n",
      "1318/1318 [==============================] - 0s 116us/sample - loss: 32.3367 - mean_squared_error: 32.3367 - val_loss: 314.3709 - val_mean_squared_error: 314.3709\n",
      "Epoch 17/70\n",
      "1318/1318 [==============================] - 0s 118us/sample - loss: 26.2872 - mean_squared_error: 26.2872 - val_loss: 256.5185 - val_mean_squared_error: 256.5185\n",
      "Epoch 18/70\n",
      "1318/1318 [==============================] - 0s 120us/sample - loss: 18.1842 - mean_squared_error: 18.1842 - val_loss: 195.0313 - val_mean_squared_error: 195.0313\n",
      "Epoch 19/70\n",
      "1318/1318 [==============================] - 0s 118us/sample - loss: 12.0264 - mean_squared_error: 12.0264 - val_loss: 143.3116 - val_mean_squared_error: 143.3116\n",
      "Epoch 20/70\n",
      "1318/1318 [==============================] - 0s 128us/sample - loss: 7.4175 - mean_squared_error: 7.4175 - val_loss: 106.9243 - val_mean_squared_error: 106.9243\n",
      "Epoch 21/70\n",
      "1318/1318 [==============================] - 0s 125us/sample - loss: 6.4023 - mean_squared_error: 6.4023 - val_loss: 82.5405 - val_mean_squared_error: 82.5405\n",
      "Epoch 22/70\n",
      "1318/1318 [==============================] - 0s 123us/sample - loss: 5.2966 - mean_squared_error: 5.2966 - val_loss: 71.5784 - val_mean_squared_error: 71.5784\n",
      "Epoch 23/70\n",
      "1318/1318 [==============================] - 0s 122us/sample - loss: 4.9799 - mean_squared_error: 4.9799 - val_loss: 64.9953 - val_mean_squared_error: 64.9953\n",
      "Epoch 24/70\n",
      "1318/1318 [==============================] - 0s 120us/sample - loss: 4.7645 - mean_squared_error: 4.7645 - val_loss: 64.9016 - val_mean_squared_error: 64.9016\n",
      "Epoch 25/70\n",
      "1318/1318 [==============================] - 0s 118us/sample - loss: 4.8388 - mean_squared_error: 4.8388 - val_loss: 59.2982 - val_mean_squared_error: 59.2982\n",
      "Epoch 26/70\n",
      "1318/1318 [==============================] - 0s 123us/sample - loss: 4.4584 - mean_squared_error: 4.4584 - val_loss: 63.1038 - val_mean_squared_error: 63.1038\n",
      "Epoch 27/70\n",
      "1318/1318 [==============================] - 0s 139us/sample - loss: 4.6598 - mean_squared_error: 4.6598 - val_loss: 57.6573 - val_mean_squared_error: 57.6573\n",
      "Epoch 28/70\n",
      "1318/1318 [==============================] - 0s 138us/sample - loss: 4.4591 - mean_squared_error: 4.4591 - val_loss: 53.1702 - val_mean_squared_error: 53.1702\n",
      "Epoch 29/70\n",
      "1318/1318 [==============================] - 0s 137us/sample - loss: 4.4174 - mean_squared_error: 4.4174 - val_loss: 55.0523 - val_mean_squared_error: 55.0523\n",
      "Epoch 30/70\n",
      "1318/1318 [==============================] - 0s 141us/sample - loss: 4.2377 - mean_squared_error: 4.2377 - val_loss: 47.6467 - val_mean_squared_error: 47.6467\n",
      "Epoch 31/70\n",
      "1318/1318 [==============================] - 0s 138us/sample - loss: 4.2963 - mean_squared_error: 4.2963 - val_loss: 54.9299 - val_mean_squared_error: 54.9299\n",
      "Epoch 32/70\n",
      "1318/1318 [==============================] - 0s 137us/sample - loss: 4.6836 - mean_squared_error: 4.6836 - val_loss: 45.2612 - val_mean_squared_error: 45.2612\n",
      "Epoch 33/70\n",
      "1318/1318 [==============================] - 0s 122us/sample - loss: 4.3934 - mean_squared_error: 4.3934 - val_loss: 49.6988 - val_mean_squared_error: 49.6988\n",
      "Epoch 34/70\n",
      "1318/1318 [==============================] - 0s 121us/sample - loss: 4.5383 - mean_squared_error: 4.5383 - val_loss: 56.3224 - val_mean_squared_error: 56.3224\n",
      "Epoch 35/70\n",
      "1318/1318 [==============================] - 0s 136us/sample - loss: 4.5530 - mean_squared_error: 4.5530 - val_loss: 46.9926 - val_mean_squared_error: 46.9926\n",
      "Epoch 36/70\n",
      "1318/1318 [==============================] - 0s 138us/sample - loss: 3.9060 - mean_squared_error: 3.9060 - val_loss: 46.0020 - val_mean_squared_error: 46.0020\n",
      "Epoch 37/70\n",
      "1318/1318 [==============================] - 0s 132us/sample - loss: 3.6703 - mean_squared_error: 3.6703 - val_loss: 43.8407 - val_mean_squared_error: 43.8407\n",
      "Epoch 38/70\n",
      "1318/1318 [==============================] - 0s 126us/sample - loss: 3.7416 - mean_squared_error: 3.7416 - val_loss: 42.7192 - val_mean_squared_error: 42.7192\n",
      "Epoch 39/70\n",
      "1318/1318 [==============================] - 0s 119us/sample - loss: 3.8133 - mean_squared_error: 3.8133 - val_loss: 39.4754 - val_mean_squared_error: 39.4754\n",
      "Epoch 40/70\n",
      "1318/1318 [==============================] - 0s 117us/sample - loss: 3.3516 - mean_squared_error: 3.3516 - val_loss: 35.8139 - val_mean_squared_error: 35.8139\n",
      "Epoch 41/70\n",
      "1318/1318 [==============================] - 0s 116us/sample - loss: 3.5520 - mean_squared_error: 3.5520 - val_loss: 37.0069 - val_mean_squared_error: 37.0069\n",
      "Epoch 42/70\n",
      "1318/1318 [==============================] - 0s 119us/sample - loss: 3.5230 - mean_squared_error: 3.5230 - val_loss: 35.6404 - val_mean_squared_error: 35.6404\n",
      "Epoch 43/70\n",
      "1318/1318 [==============================] - 0s 120us/sample - loss: 3.3539 - mean_squared_error: 3.3539 - val_loss: 32.9673 - val_mean_squared_error: 32.9673\n",
      "Epoch 44/70\n",
      "1318/1318 [==============================] - 0s 116us/sample - loss: 3.2675 - mean_squared_error: 3.2675 - val_loss: 35.5951 - val_mean_squared_error: 35.5951\n",
      "Epoch 45/70\n",
      "1318/1318 [==============================] - 0s 116us/sample - loss: 3.1836 - mean_squared_error: 3.1836 - val_loss: 33.1583 - val_mean_squared_error: 33.1583\n",
      "Epoch 46/70\n",
      "1318/1318 [==============================] - 0s 121us/sample - loss: 3.1953 - mean_squared_error: 3.1953 - val_loss: 31.4054 - val_mean_squared_error: 31.4054\n",
      "Epoch 47/70\n",
      "1318/1318 [==============================] - 0s 126us/sample - loss: 3.2555 - mean_squared_error: 3.2555 - val_loss: 30.5790 - val_mean_squared_error: 30.5790\n",
      "Epoch 48/70\n",
      "1318/1318 [==============================] - 0s 117us/sample - loss: 2.9897 - mean_squared_error: 2.9897 - val_loss: 29.5578 - val_mean_squared_error: 29.5578\n",
      "Epoch 49/70\n",
      "1318/1318 [==============================] - 0s 116us/sample - loss: 3.4007 - mean_squared_error: 3.4007 - val_loss: 27.6530 - val_mean_squared_error: 27.6530\n",
      "Epoch 50/70\n",
      "1318/1318 [==============================] - 0s 116us/sample - loss: 2.9520 - mean_squared_error: 2.9520 - val_loss: 26.5645 - val_mean_squared_error: 26.5645\n",
      "Epoch 51/70\n",
      "1318/1318 [==============================] - 0s 116us/sample - loss: 2.9204 - mean_squared_error: 2.9204 - val_loss: 24.5224 - val_mean_squared_error: 24.5224\n",
      "Epoch 52/70\n",
      "1318/1318 [==============================] - 0s 114us/sample - loss: 3.2743 - mean_squared_error: 3.2743 - val_loss: 28.4417 - val_mean_squared_error: 28.4417\n",
      "Epoch 53/70\n",
      "1318/1318 [==============================] - 0s 116us/sample - loss: 2.9802 - mean_squared_error: 2.9802 - val_loss: 23.9920 - val_mean_squared_error: 23.9920\n",
      "Epoch 54/70\n",
      "1318/1318 [==============================] - 0s 115us/sample - loss: 3.0405 - mean_squared_error: 3.0405 - val_loss: 21.8043 - val_mean_squared_error: 21.8043\n",
      "Epoch 55/70\n",
      "1318/1318 [==============================] - 0s 116us/sample - loss: 3.0820 - mean_squared_error: 3.0820 - val_loss: 22.2025 - val_mean_squared_error: 22.2025\n",
      "Epoch 56/70\n",
      "1318/1318 [==============================] - 0s 120us/sample - loss: 2.8322 - mean_squared_error: 2.8322 - val_loss: 26.5650 - val_mean_squared_error: 26.5650\n",
      "Epoch 57/70\n",
      "1318/1318 [==============================] - 0s 165us/sample - loss: 3.0041 - mean_squared_error: 3.0041 - val_loss: 19.5953 - val_mean_squared_error: 19.5953\n",
      "Epoch 58/70\n",
      "1318/1318 [==============================] - 0s 119us/sample - loss: 2.9929 - mean_squared_error: 2.9929 - val_loss: 20.4752 - val_mean_squared_error: 20.4752\n",
      "Epoch 59/70\n",
      "1318/1318 [==============================] - 0s 118us/sample - loss: 2.8344 - mean_squared_error: 2.8344 - val_loss: 21.4428 - val_mean_squared_error: 21.4428\n",
      "Epoch 60/70\n",
      "1318/1318 [==============================] - 0s 119us/sample - loss: 2.8016 - mean_squared_error: 2.8016 - val_loss: 20.6306 - val_mean_squared_error: 20.6306\n",
      "Epoch 61/70\n",
      "1318/1318 [==============================] - 0s 146us/sample - loss: 2.5811 - mean_squared_error: 2.5811 - val_loss: 18.6282 - val_mean_squared_error: 18.6282\n",
      "Epoch 62/70\n",
      "1318/1318 [==============================] - 0s 114us/sample - loss: 2.9165 - mean_squared_error: 2.9165 - val_loss: 19.5424 - val_mean_squared_error: 19.5424\n",
      "Epoch 63/70\n",
      "1318/1318 [==============================] - 0s 123us/sample - loss: 2.7643 - mean_squared_error: 2.7643 - val_loss: 20.5495 - val_mean_squared_error: 20.5495\n",
      "Epoch 64/70\n",
      "1318/1318 [==============================] - 0s 132us/sample - loss: 2.7754 - mean_squared_error: 2.7754 - val_loss: 19.0182 - val_mean_squared_error: 19.0182\n",
      "Epoch 65/70\n",
      "1318/1318 [==============================] - 0s 135us/sample - loss: 2.6517 - mean_squared_error: 2.6517 - val_loss: 18.9777 - val_mean_squared_error: 18.9777\n",
      "Epoch 66/70\n",
      "1318/1318 [==============================] - 0s 135us/sample - loss: 2.7777 - mean_squared_error: 2.7777 - val_loss: 15.9310 - val_mean_squared_error: 15.9310\n",
      "Epoch 67/70\n",
      "1318/1318 [==============================] - 0s 140us/sample - loss: 2.5291 - mean_squared_error: 2.5291 - val_loss: 16.3436 - val_mean_squared_error: 16.3436\n",
      "Epoch 68/70\n",
      "1318/1318 [==============================] - 0s 135us/sample - loss: 2.6253 - mean_squared_error: 2.6253 - val_loss: 18.2425 - val_mean_squared_error: 18.2425\n",
      "Epoch 69/70\n",
      "1318/1318 [==============================] - 0s 131us/sample - loss: 2.6228 - mean_squared_error: 2.6228 - val_loss: 18.1435 - val_mean_squared_error: 18.1435\n",
      "Epoch 70/70\n",
      "1318/1318 [==============================] - 0s 126us/sample - loss: 2.6890 - mean_squared_error: 2.6890 - val_loss: 19.7423 - val_mean_squared_error: 19.7423\n"
     ]
    }
   ],
   "source": [
    "results= model.fit(train_features, train_label, epochs=70, batch_size=128, validation_data=(test_features, test_label))"
   ]
  },
  {
   "cell_type": "markdown",
   "metadata": {},
   "source": [
    "###  Comapre mean_squared_error variation at each epoch"
   ]
  },
  {
   "cell_type": "code",
   "execution_count": 348,
   "metadata": {},
   "outputs": [
    {
     "data": {
      "text/plain": [
       "<matplotlib.legend.Legend at 0x29189e4c748>"
      ]
     },
     "execution_count": 348,
     "metadata": {},
     "output_type": "execute_result"
    },
    {
     "data": {
      "image/png": "[encoded data removed]",
      "text/plain": [
       "<Figure size 864x504 with 1 Axes>"
      ]
     },
     "metadata": {
      "needs_background": "light"
     },
     "output_type": "display_data"
    }
   ],
   "source": [
    "plt.plot(results.history['mean_squared_error'])\n",
    "plt.plot(results.history['val_mean_squared_error'])\n",
    "plt.title('train vs test error comparison')\n",
    "plt.xlabel('number of epochs')\n",
    "plt.ylabel('Loss/error')\n",
    "plt.legend(['train', 'val'])"
   ]
  },
  {
   "cell_type": "code",
   "execution_count": 361,
   "metadata": {},
   "outputs": [],
   "source": [
    "testscore = model.evaluate(test_features, test_label, verbose=0)"
   ]
  },
  {
   "cell_type": "code",
   "execution_count": 353,
   "metadata": {},
   "outputs": [],
   "source": [
    "prediction= model.predict(test_features)"
   ]
  },
  {
   "cell_type": "markdown",
   "metadata": {},
   "source": [
    "### Comparison actual vs prediction"
   ]
  },
  {
   "cell_type": "code",
   "execution_count": 359,
   "metadata": {},
   "outputs": [
    {
     "data": {
      "image/png": "[encoded data removed]",
      "text/plain": [
       "<Figure size 1152x504 with 1 Axes>"
      ]
     },
     "metadata": {
      "needs_background": "light"
     },
     "output_type": "display_data"
    }
   ],
   "source": [
    "plt.rcParams[\"figure.figsize\"] = (16, 7)\n",
    "plt.plot(test_label, 'b')\n",
    "plt.plot(prediction, 'r')\n",
    "plt.ylabel('AAPL stock prices')\n",
    "plt.title(\"Actual Stcok vs Predictions comparison\")\n",
    "plt.legend(['Actual', 'Prediction'])\n",
    "plt.show()"
   ]
  }
 ],
 "metadata": {
  "kernelspec": {
   "display_name": "Python 3",
   "language": "python",
   "name": "python3"
  },
  "language_info": {
   "codemirror_mode": {
    "name": "ipython",
    "version": 3
   },
   "file_extension": ".py",
   "mimetype": "text/x-python",
   "name": "python",
   "nbconvert_exporter": "python",
   "pygments_lexer": "ipython3",
   "version": "3.7.4"
  }
 },
 "nbformat": 4,
 "nbformat_minor": 2
}
